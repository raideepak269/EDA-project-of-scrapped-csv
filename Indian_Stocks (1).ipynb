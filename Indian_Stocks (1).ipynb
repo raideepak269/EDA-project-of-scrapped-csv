{
 "cells": [
  {
   "cell_type": "code",
   "execution_count": 22,
   "id": "0c2bfdbc",
   "metadata": {},
   "outputs": [],
   "source": [
    "import pandas as pd,numpy as np,seaborn as sns\n",
    "import matplotlib.pyplot as plt\n",
    "import warnings\n",
    "warnings.filterwarnings('ignore')"
   ]
  },
  {
   "cell_type": "code",
   "execution_count": 179,
   "id": "c153284e",
   "metadata": {},
   "outputs": [
    {
     "name": "stdout",
     "output_type": "stream",
     "text": [
      "\u001b[1m\u001b[30m************************************************************************************************************************\u001b[0m\n",
      "\u001b[1m\u001b[34m\t\t\t\t\t\tDATASET:-INDIANCOMPANIES\u001b[0m\n",
      "\u001b[1m\u001b[30m************************************************************************************************************************\u001b[0m\n",
      "\n",
      "\u001b[1m\u001b[33m******************************\t\tTop 100 Companies name by Market Cap in India\t********************************\u001b[0m\n",
      "\n",
      "\u001b[1m\u001b[30m************************************************************************************************************************\u001b[0m\n"
     ]
    }
   ],
   "source": [
    "from termcolor import colored\n",
    "print(colored('*'*120,'black',attrs=['bold']))\n",
    "print(colored(\"\\t\\t\\t\\t\\t\\tDATASET:-INDIANCOMPANIES\",'blue',attrs=['bold']))\n",
    "print(colored('*'*120,'black',attrs=['bold']))\n",
    "print()\n",
    "print(colored('******************************\\t\\tTop 100 Companies name by Market Cap in India\\t********************************', 'yellow', attrs=['bold']))\n",
    "print()\n",
    "print(colored('*'*120,'black',attrs=['bold']))"
   ]
  },
  {
   "cell_type": "code",
   "execution_count": 48,
   "id": "107a757b",
   "metadata": {},
   "outputs": [],
   "source": [
    "stocks=pd.read_csv(\"indiancompany.csv\")"
   ]
  },
  {
   "cell_type": "code",
   "execution_count": 5,
   "id": "ff6fbd02",
   "metadata": {},
   "outputs": [
    {
     "data": {
      "text/html": [
       "<div>\n",
       "<style scoped>\n",
       "    .dataframe tbody tr th:only-of-type {\n",
       "        vertical-align: middle;\n",
       "    }\n",
       "\n",
       "    .dataframe tbody tr th {\n",
       "        vertical-align: top;\n",
       "    }\n",
       "\n",
       "    .dataframe thead th {\n",
       "        text-align: right;\n",
       "    }\n",
       "</style>\n",
       "<table border=\"1\" class=\"dataframe\">\n",
       "  <thead>\n",
       "    <tr style=\"text-align: right;\">\n",
       "      <th></th>\n",
       "      <th>Unnamed: 0</th>\n",
       "      <th>Sr_no</th>\n",
       "      <th>Company_name</th>\n",
       "      <th>Market_cap</th>\n",
       "    </tr>\n",
       "  </thead>\n",
       "  <tbody>\n",
       "    <tr>\n",
       "      <th>0</th>\n",
       "      <td>0</td>\n",
       "      <td>S.No.</td>\n",
       "      <td>Company Name Name</td>\n",
       "      <td>Market Cap</td>\n",
       "    </tr>\n",
       "    <tr>\n",
       "      <th>1</th>\n",
       "      <td>1</td>\n",
       "      <td>1</td>\n",
       "      <td>Reliance Industries</td>\n",
       "      <td>₹           16,26,036</td>\n",
       "    </tr>\n",
       "    <tr>\n",
       "      <th>2</th>\n",
       "      <td>2</td>\n",
       "      <td>2</td>\n",
       "      <td>TCS</td>\n",
       "      <td>₹           13,25,131</td>\n",
       "    </tr>\n",
       "    <tr>\n",
       "      <th>3</th>\n",
       "      <td>3</td>\n",
       "      <td>3</td>\n",
       "      <td>HDFC Bank</td>\n",
       "      <td>₹             8,30,832</td>\n",
       "    </tr>\n",
       "    <tr>\n",
       "      <th>4</th>\n",
       "      <td>4</td>\n",
       "      <td>4</td>\n",
       "      <td>Infosys</td>\n",
       "      <td>₹             7,45,368</td>\n",
       "    </tr>\n",
       "    <tr>\n",
       "      <th>...</th>\n",
       "      <td>...</td>\n",
       "      <td>...</td>\n",
       "      <td>...</td>\n",
       "      <td>...</td>\n",
       "    </tr>\n",
       "    <tr>\n",
       "      <th>96</th>\n",
       "      <td>96</td>\n",
       "      <td>96</td>\n",
       "      <td>PB Fintech.</td>\n",
       "      <td>₹                49,533</td>\n",
       "    </tr>\n",
       "    <tr>\n",
       "      <th>97</th>\n",
       "      <td>97</td>\n",
       "      <td>97</td>\n",
       "      <td>Hero Motocorp</td>\n",
       "      <td>₹                49,329</td>\n",
       "    </tr>\n",
       "    <tr>\n",
       "      <th>98</th>\n",
       "      <td>98</td>\n",
       "      <td>98</td>\n",
       "      <td>Bosch</td>\n",
       "      <td>₹                48,689</td>\n",
       "    </tr>\n",
       "    <tr>\n",
       "      <th>99</th>\n",
       "      <td>99</td>\n",
       "      <td>99</td>\n",
       "      <td>JSW Energy</td>\n",
       "      <td>₹                48,491</td>\n",
       "    </tr>\n",
       "    <tr>\n",
       "      <th>100</th>\n",
       "      <td>100</td>\n",
       "      <td>100</td>\n",
       "      <td>Jubilant Food.</td>\n",
       "      <td>₹                48,455</td>\n",
       "    </tr>\n",
       "  </tbody>\n",
       "</table>\n",
       "<p>101 rows × 4 columns</p>\n",
       "</div>"
      ],
      "text/plain": [
       "     Unnamed: 0  Sr_no         Company_name               Market_cap\n",
       "0             0  S.No.    Company Name Name               Market Cap\n",
       "1             1      1  Reliance Industries    ₹           16,26,036\n",
       "2             2      2                  TCS    ₹           13,25,131\n",
       "3             3      3            HDFC Bank   ₹             8,30,832\n",
       "4             4      4              Infosys   ₹             7,45,368\n",
       "..          ...    ...                  ...                      ...\n",
       "96           96     96          PB Fintech.  ₹                49,533\n",
       "97           97     97        Hero Motocorp  ₹                49,329\n",
       "98           98     98                Bosch  ₹                48,689\n",
       "99           99     99           JSW Energy  ₹                48,491\n",
       "100         100    100       Jubilant Food.  ₹                48,455\n",
       "\n",
       "[101 rows x 4 columns]"
      ]
     },
     "execution_count": 5,
     "metadata": {},
     "output_type": "execute_result"
    }
   ],
   "source": [
    "stocks"
   ]
  },
  {
   "cell_type": "code",
   "execution_count": 6,
   "id": "7e76827b",
   "metadata": {},
   "outputs": [
    {
     "name": "stdout",
     "output_type": "stream",
     "text": [
      "<class 'pandas.core.frame.DataFrame'>\n",
      "RangeIndex: 101 entries, 0 to 100\n",
      "Data columns (total 4 columns):\n",
      " #   Column        Non-Null Count  Dtype \n",
      "---  ------        --------------  ----- \n",
      " 0   Unnamed: 0    101 non-null    int64 \n",
      " 1   Sr_no         101 non-null    object\n",
      " 2   Company_name  101 non-null    object\n",
      " 3   Market_cap    101 non-null    object\n",
      "dtypes: int64(1), object(3)\n",
      "memory usage: 3.3+ KB\n"
     ]
    }
   ],
   "source": [
    "stocks.info()"
   ]
  },
  {
   "cell_type": "code",
   "execution_count": 50,
   "id": "01b6be88",
   "metadata": {},
   "outputs": [
    {
     "data": {
      "text/html": [
       "<div>\n",
       "<style scoped>\n",
       "    .dataframe tbody tr th:only-of-type {\n",
       "        vertical-align: middle;\n",
       "    }\n",
       "\n",
       "    .dataframe tbody tr th {\n",
       "        vertical-align: top;\n",
       "    }\n",
       "\n",
       "    .dataframe thead th {\n",
       "        text-align: right;\n",
       "    }\n",
       "</style>\n",
       "<table border=\"1\" class=\"dataframe\">\n",
       "  <thead>\n",
       "    <tr style=\"text-align: right;\">\n",
       "      <th></th>\n",
       "      <th>Sr_no</th>\n",
       "      <th>Company_name</th>\n",
       "      <th>Market_cap</th>\n",
       "    </tr>\n",
       "  </thead>\n",
       "  <tbody>\n",
       "    <tr>\n",
       "      <th>0</th>\n",
       "      <td>S.No.</td>\n",
       "      <td>Company Name Name</td>\n",
       "      <td>Market Cap</td>\n",
       "    </tr>\n",
       "    <tr>\n",
       "      <th>1</th>\n",
       "      <td>1</td>\n",
       "      <td>Reliance Industries</td>\n",
       "      <td>₹           16,26,036</td>\n",
       "    </tr>\n",
       "    <tr>\n",
       "      <th>2</th>\n",
       "      <td>2</td>\n",
       "      <td>TCS</td>\n",
       "      <td>₹           13,25,131</td>\n",
       "    </tr>\n",
       "    <tr>\n",
       "      <th>3</th>\n",
       "      <td>3</td>\n",
       "      <td>HDFC Bank</td>\n",
       "      <td>₹             8,30,832</td>\n",
       "    </tr>\n",
       "    <tr>\n",
       "      <th>4</th>\n",
       "      <td>4</td>\n",
       "      <td>Infosys</td>\n",
       "      <td>₹             7,45,368</td>\n",
       "    </tr>\n",
       "    <tr>\n",
       "      <th>...</th>\n",
       "      <td>...</td>\n",
       "      <td>...</td>\n",
       "      <td>...</td>\n",
       "    </tr>\n",
       "    <tr>\n",
       "      <th>96</th>\n",
       "      <td>96</td>\n",
       "      <td>PB Fintech.</td>\n",
       "      <td>₹                49,533</td>\n",
       "    </tr>\n",
       "    <tr>\n",
       "      <th>97</th>\n",
       "      <td>97</td>\n",
       "      <td>Hero Motocorp</td>\n",
       "      <td>₹                49,329</td>\n",
       "    </tr>\n",
       "    <tr>\n",
       "      <th>98</th>\n",
       "      <td>98</td>\n",
       "      <td>Bosch</td>\n",
       "      <td>₹                48,689</td>\n",
       "    </tr>\n",
       "    <tr>\n",
       "      <th>99</th>\n",
       "      <td>99</td>\n",
       "      <td>JSW Energy</td>\n",
       "      <td>₹                48,491</td>\n",
       "    </tr>\n",
       "    <tr>\n",
       "      <th>100</th>\n",
       "      <td>100</td>\n",
       "      <td>Jubilant Food.</td>\n",
       "      <td>₹                48,455</td>\n",
       "    </tr>\n",
       "  </tbody>\n",
       "</table>\n",
       "<p>101 rows × 3 columns</p>\n",
       "</div>"
      ],
      "text/plain": [
       "     Sr_no         Company_name               Market_cap\n",
       "0    S.No.    Company Name Name               Market Cap\n",
       "1        1  Reliance Industries    ₹           16,26,036\n",
       "2        2                  TCS    ₹           13,25,131\n",
       "3        3            HDFC Bank   ₹             8,30,832\n",
       "4        4              Infosys   ₹             7,45,368\n",
       "..     ...                  ...                      ...\n",
       "96      96          PB Fintech.  ₹                49,533\n",
       "97      97        Hero Motocorp  ₹                49,329\n",
       "98      98                Bosch  ₹                48,689\n",
       "99      99           JSW Energy  ₹                48,491\n",
       "100    100       Jubilant Food.  ₹                48,455\n",
       "\n",
       "[101 rows x 3 columns]"
      ]
     },
     "execution_count": 50,
     "metadata": {},
     "output_type": "execute_result"
    }
   ],
   "source": [
    "stocks.drop(['Unnamed: 0'],axis=1)"
   ]
  },
  {
   "cell_type": "markdown",
   "id": "d39be182",
   "metadata": {},
   "source": [
    "# as we can see a unnamed column is not required so we are droping this column"
   ]
  },
  {
   "cell_type": "code",
   "execution_count": 53,
   "id": "70b61cbb",
   "metadata": {},
   "outputs": [],
   "source": [
    "stocks.drop(['Unnamed: 0'],axis=1,inplace=True)"
   ]
  },
  {
   "cell_type": "code",
   "execution_count": 54,
   "id": "d03029bb",
   "metadata": {},
   "outputs": [
    {
     "data": {
      "text/html": [
       "<div>\n",
       "<style scoped>\n",
       "    .dataframe tbody tr th:only-of-type {\n",
       "        vertical-align: middle;\n",
       "    }\n",
       "\n",
       "    .dataframe tbody tr th {\n",
       "        vertical-align: top;\n",
       "    }\n",
       "\n",
       "    .dataframe thead th {\n",
       "        text-align: right;\n",
       "    }\n",
       "</style>\n",
       "<table border=\"1\" class=\"dataframe\">\n",
       "  <thead>\n",
       "    <tr style=\"text-align: right;\">\n",
       "      <th></th>\n",
       "      <th>Sr_no</th>\n",
       "      <th>Company_name</th>\n",
       "      <th>Market_cap</th>\n",
       "    </tr>\n",
       "  </thead>\n",
       "  <tbody>\n",
       "    <tr>\n",
       "      <th>0</th>\n",
       "      <td>S.No.</td>\n",
       "      <td>Company Name Name</td>\n",
       "      <td>Market Cap</td>\n",
       "    </tr>\n",
       "    <tr>\n",
       "      <th>1</th>\n",
       "      <td>1</td>\n",
       "      <td>Reliance Industries</td>\n",
       "      <td>₹           16,26,036</td>\n",
       "    </tr>\n",
       "    <tr>\n",
       "      <th>2</th>\n",
       "      <td>2</td>\n",
       "      <td>TCS</td>\n",
       "      <td>₹           13,25,131</td>\n",
       "    </tr>\n",
       "    <tr>\n",
       "      <th>3</th>\n",
       "      <td>3</td>\n",
       "      <td>HDFC Bank</td>\n",
       "      <td>₹             8,30,832</td>\n",
       "    </tr>\n",
       "    <tr>\n",
       "      <th>4</th>\n",
       "      <td>4</td>\n",
       "      <td>Infosys</td>\n",
       "      <td>₹             7,45,368</td>\n",
       "    </tr>\n",
       "    <tr>\n",
       "      <th>...</th>\n",
       "      <td>...</td>\n",
       "      <td>...</td>\n",
       "      <td>...</td>\n",
       "    </tr>\n",
       "    <tr>\n",
       "      <th>96</th>\n",
       "      <td>96</td>\n",
       "      <td>PB Fintech.</td>\n",
       "      <td>₹                49,533</td>\n",
       "    </tr>\n",
       "    <tr>\n",
       "      <th>97</th>\n",
       "      <td>97</td>\n",
       "      <td>Hero Motocorp</td>\n",
       "      <td>₹                49,329</td>\n",
       "    </tr>\n",
       "    <tr>\n",
       "      <th>98</th>\n",
       "      <td>98</td>\n",
       "      <td>Bosch</td>\n",
       "      <td>₹                48,689</td>\n",
       "    </tr>\n",
       "    <tr>\n",
       "      <th>99</th>\n",
       "      <td>99</td>\n",
       "      <td>JSW Energy</td>\n",
       "      <td>₹                48,491</td>\n",
       "    </tr>\n",
       "    <tr>\n",
       "      <th>100</th>\n",
       "      <td>100</td>\n",
       "      <td>Jubilant Food.</td>\n",
       "      <td>₹                48,455</td>\n",
       "    </tr>\n",
       "  </tbody>\n",
       "</table>\n",
       "<p>101 rows × 3 columns</p>\n",
       "</div>"
      ],
      "text/plain": [
       "     Sr_no         Company_name               Market_cap\n",
       "0    S.No.    Company Name Name               Market Cap\n",
       "1        1  Reliance Industries    ₹           16,26,036\n",
       "2        2                  TCS    ₹           13,25,131\n",
       "3        3            HDFC Bank   ₹             8,30,832\n",
       "4        4              Infosys   ₹             7,45,368\n",
       "..     ...                  ...                      ...\n",
       "96      96          PB Fintech.  ₹                49,533\n",
       "97      97        Hero Motocorp  ₹                49,329\n",
       "98      98                Bosch  ₹                48,689\n",
       "99      99           JSW Energy  ₹                48,491\n",
       "100    100       Jubilant Food.  ₹                48,455\n",
       "\n",
       "[101 rows x 3 columns]"
      ]
     },
     "execution_count": 54,
     "metadata": {},
     "output_type": "execute_result"
    }
   ],
   "source": [
    "stocks"
   ]
  },
  {
   "cell_type": "code",
   "execution_count": 56,
   "id": "2545bcbb",
   "metadata": {},
   "outputs": [
    {
     "data": {
      "text/html": [
       "<div>\n",
       "<style scoped>\n",
       "    .dataframe tbody tr th:only-of-type {\n",
       "        vertical-align: middle;\n",
       "    }\n",
       "\n",
       "    .dataframe tbody tr th {\n",
       "        vertical-align: top;\n",
       "    }\n",
       "\n",
       "    .dataframe thead th {\n",
       "        text-align: right;\n",
       "    }\n",
       "</style>\n",
       "<table border=\"1\" class=\"dataframe\">\n",
       "  <thead>\n",
       "    <tr style=\"text-align: right;\">\n",
       "      <th></th>\n",
       "      <th>Sr_no</th>\n",
       "      <th>Company_name</th>\n",
       "      <th>Market_cap</th>\n",
       "    </tr>\n",
       "  </thead>\n",
       "  <tbody>\n",
       "    <tr>\n",
       "      <th>0</th>\n",
       "      <td>1</td>\n",
       "      <td>Reliance Industries</td>\n",
       "      <td>₹           16,26,036</td>\n",
       "    </tr>\n",
       "    <tr>\n",
       "      <th>1</th>\n",
       "      <td>2</td>\n",
       "      <td>TCS</td>\n",
       "      <td>₹           13,25,131</td>\n",
       "    </tr>\n",
       "    <tr>\n",
       "      <th>2</th>\n",
       "      <td>3</td>\n",
       "      <td>HDFC Bank</td>\n",
       "      <td>₹             8,30,832</td>\n",
       "    </tr>\n",
       "    <tr>\n",
       "      <th>3</th>\n",
       "      <td>4</td>\n",
       "      <td>Infosys</td>\n",
       "      <td>₹             7,45,368</td>\n",
       "    </tr>\n",
       "    <tr>\n",
       "      <th>4</th>\n",
       "      <td>5</td>\n",
       "      <td>Hind. Unilever</td>\n",
       "      <td>₹             5,42,253</td>\n",
       "    </tr>\n",
       "    <tr>\n",
       "      <th>...</th>\n",
       "      <td>...</td>\n",
       "      <td>...</td>\n",
       "      <td>...</td>\n",
       "    </tr>\n",
       "    <tr>\n",
       "      <th>95</th>\n",
       "      <td>96</td>\n",
       "      <td>PB Fintech.</td>\n",
       "      <td>₹                49,533</td>\n",
       "    </tr>\n",
       "    <tr>\n",
       "      <th>96</th>\n",
       "      <td>97</td>\n",
       "      <td>Hero Motocorp</td>\n",
       "      <td>₹                49,329</td>\n",
       "    </tr>\n",
       "    <tr>\n",
       "      <th>97</th>\n",
       "      <td>98</td>\n",
       "      <td>Bosch</td>\n",
       "      <td>₹                48,689</td>\n",
       "    </tr>\n",
       "    <tr>\n",
       "      <th>98</th>\n",
       "      <td>99</td>\n",
       "      <td>JSW Energy</td>\n",
       "      <td>₹                48,491</td>\n",
       "    </tr>\n",
       "    <tr>\n",
       "      <th>99</th>\n",
       "      <td>100</td>\n",
       "      <td>Jubilant Food.</td>\n",
       "      <td>₹                48,455</td>\n",
       "    </tr>\n",
       "  </tbody>\n",
       "</table>\n",
       "<p>100 rows × 3 columns</p>\n",
       "</div>"
      ],
      "text/plain": [
       "   Sr_no         Company_name               Market_cap\n",
       "0      1  Reliance Industries    ₹           16,26,036\n",
       "1      2                  TCS    ₹           13,25,131\n",
       "2      3            HDFC Bank   ₹             8,30,832\n",
       "3      4              Infosys   ₹             7,45,368\n",
       "4      5       Hind. Unilever   ₹             5,42,253\n",
       "..   ...                  ...                      ...\n",
       "95    96          PB Fintech.  ₹                49,533\n",
       "96    97        Hero Motocorp  ₹                49,329\n",
       "97    98                Bosch  ₹                48,689\n",
       "98    99           JSW Energy  ₹                48,491\n",
       "99   100       Jubilant Food.  ₹                48,455\n",
       "\n",
       "[100 rows x 3 columns]"
      ]
     },
     "execution_count": 56,
     "metadata": {},
     "output_type": "execute_result"
    }
   ],
   "source": [
    " stocks.drop(0).reset_index(drop=True)"
   ]
  },
  {
   "cell_type": "code",
   "execution_count": 57,
   "id": "5bfd0c8b",
   "metadata": {},
   "outputs": [
    {
     "data": {
      "text/html": [
       "<div>\n",
       "<style scoped>\n",
       "    .dataframe tbody tr th:only-of-type {\n",
       "        vertical-align: middle;\n",
       "    }\n",
       "\n",
       "    .dataframe tbody tr th {\n",
       "        vertical-align: top;\n",
       "    }\n",
       "\n",
       "    .dataframe thead th {\n",
       "        text-align: right;\n",
       "    }\n",
       "</style>\n",
       "<table border=\"1\" class=\"dataframe\">\n",
       "  <thead>\n",
       "    <tr style=\"text-align: right;\">\n",
       "      <th></th>\n",
       "      <th>Sr_no</th>\n",
       "      <th>Company_name</th>\n",
       "      <th>Market_cap</th>\n",
       "    </tr>\n",
       "  </thead>\n",
       "  <tbody>\n",
       "    <tr>\n",
       "      <th>0</th>\n",
       "      <td>S.No.</td>\n",
       "      <td>Company Name Name</td>\n",
       "      <td>Market Cap</td>\n",
       "    </tr>\n",
       "    <tr>\n",
       "      <th>1</th>\n",
       "      <td>1</td>\n",
       "      <td>Reliance Industries</td>\n",
       "      <td>₹           16,26,036</td>\n",
       "    </tr>\n",
       "    <tr>\n",
       "      <th>2</th>\n",
       "      <td>2</td>\n",
       "      <td>TCS</td>\n",
       "      <td>₹           13,25,131</td>\n",
       "    </tr>\n",
       "    <tr>\n",
       "      <th>3</th>\n",
       "      <td>3</td>\n",
       "      <td>HDFC Bank</td>\n",
       "      <td>₹             8,30,832</td>\n",
       "    </tr>\n",
       "    <tr>\n",
       "      <th>4</th>\n",
       "      <td>4</td>\n",
       "      <td>Infosys</td>\n",
       "      <td>₹             7,45,368</td>\n",
       "    </tr>\n",
       "    <tr>\n",
       "      <th>...</th>\n",
       "      <td>...</td>\n",
       "      <td>...</td>\n",
       "      <td>...</td>\n",
       "    </tr>\n",
       "    <tr>\n",
       "      <th>96</th>\n",
       "      <td>96</td>\n",
       "      <td>PB Fintech.</td>\n",
       "      <td>₹                49,533</td>\n",
       "    </tr>\n",
       "    <tr>\n",
       "      <th>97</th>\n",
       "      <td>97</td>\n",
       "      <td>Hero Motocorp</td>\n",
       "      <td>₹                49,329</td>\n",
       "    </tr>\n",
       "    <tr>\n",
       "      <th>98</th>\n",
       "      <td>98</td>\n",
       "      <td>Bosch</td>\n",
       "      <td>₹                48,689</td>\n",
       "    </tr>\n",
       "    <tr>\n",
       "      <th>99</th>\n",
       "      <td>99</td>\n",
       "      <td>JSW Energy</td>\n",
       "      <td>₹                48,491</td>\n",
       "    </tr>\n",
       "    <tr>\n",
       "      <th>100</th>\n",
       "      <td>100</td>\n",
       "      <td>Jubilant Food.</td>\n",
       "      <td>₹                48,455</td>\n",
       "    </tr>\n",
       "  </tbody>\n",
       "</table>\n",
       "<p>101 rows × 3 columns</p>\n",
       "</div>"
      ],
      "text/plain": [
       "     Sr_no         Company_name               Market_cap\n",
       "0    S.No.    Company Name Name               Market Cap\n",
       "1        1  Reliance Industries    ₹           16,26,036\n",
       "2        2                  TCS    ₹           13,25,131\n",
       "3        3            HDFC Bank   ₹             8,30,832\n",
       "4        4              Infosys   ₹             7,45,368\n",
       "..     ...                  ...                      ...\n",
       "96      96          PB Fintech.  ₹                49,533\n",
       "97      97        Hero Motocorp  ₹                49,329\n",
       "98      98                Bosch  ₹                48,689\n",
       "99      99           JSW Energy  ₹                48,491\n",
       "100    100       Jubilant Food.  ₹                48,455\n",
       "\n",
       "[101 rows x 3 columns]"
      ]
     },
     "execution_count": 57,
     "metadata": {},
     "output_type": "execute_result"
    }
   ],
   "source": [
    "stocks"
   ]
  },
  {
   "cell_type": "code",
   "execution_count": 58,
   "id": "42ba9ce1",
   "metadata": {},
   "outputs": [],
   "source": [
    "stocks=stocks.drop(0).reset_index(drop=True)"
   ]
  },
  {
   "cell_type": "code",
   "execution_count": 59,
   "id": "d396df4a",
   "metadata": {},
   "outputs": [
    {
     "data": {
      "text/html": [
       "<div>\n",
       "<style scoped>\n",
       "    .dataframe tbody tr th:only-of-type {\n",
       "        vertical-align: middle;\n",
       "    }\n",
       "\n",
       "    .dataframe tbody tr th {\n",
       "        vertical-align: top;\n",
       "    }\n",
       "\n",
       "    .dataframe thead th {\n",
       "        text-align: right;\n",
       "    }\n",
       "</style>\n",
       "<table border=\"1\" class=\"dataframe\">\n",
       "  <thead>\n",
       "    <tr style=\"text-align: right;\">\n",
       "      <th></th>\n",
       "      <th>Sr_no</th>\n",
       "      <th>Company_name</th>\n",
       "      <th>Market_cap</th>\n",
       "    </tr>\n",
       "  </thead>\n",
       "  <tbody>\n",
       "    <tr>\n",
       "      <th>0</th>\n",
       "      <td>1</td>\n",
       "      <td>Reliance Industries</td>\n",
       "      <td>₹           16,26,036</td>\n",
       "    </tr>\n",
       "    <tr>\n",
       "      <th>1</th>\n",
       "      <td>2</td>\n",
       "      <td>TCS</td>\n",
       "      <td>₹           13,25,131</td>\n",
       "    </tr>\n",
       "    <tr>\n",
       "      <th>2</th>\n",
       "      <td>3</td>\n",
       "      <td>HDFC Bank</td>\n",
       "      <td>₹             8,30,832</td>\n",
       "    </tr>\n",
       "    <tr>\n",
       "      <th>3</th>\n",
       "      <td>4</td>\n",
       "      <td>Infosys</td>\n",
       "      <td>₹             7,45,368</td>\n",
       "    </tr>\n",
       "    <tr>\n",
       "      <th>4</th>\n",
       "      <td>5</td>\n",
       "      <td>Hind. Unilever</td>\n",
       "      <td>₹             5,42,253</td>\n",
       "    </tr>\n",
       "    <tr>\n",
       "      <th>...</th>\n",
       "      <td>...</td>\n",
       "      <td>...</td>\n",
       "      <td>...</td>\n",
       "    </tr>\n",
       "    <tr>\n",
       "      <th>95</th>\n",
       "      <td>96</td>\n",
       "      <td>PB Fintech.</td>\n",
       "      <td>₹                49,533</td>\n",
       "    </tr>\n",
       "    <tr>\n",
       "      <th>96</th>\n",
       "      <td>97</td>\n",
       "      <td>Hero Motocorp</td>\n",
       "      <td>₹                49,329</td>\n",
       "    </tr>\n",
       "    <tr>\n",
       "      <th>97</th>\n",
       "      <td>98</td>\n",
       "      <td>Bosch</td>\n",
       "      <td>₹                48,689</td>\n",
       "    </tr>\n",
       "    <tr>\n",
       "      <th>98</th>\n",
       "      <td>99</td>\n",
       "      <td>JSW Energy</td>\n",
       "      <td>₹                48,491</td>\n",
       "    </tr>\n",
       "    <tr>\n",
       "      <th>99</th>\n",
       "      <td>100</td>\n",
       "      <td>Jubilant Food.</td>\n",
       "      <td>₹                48,455</td>\n",
       "    </tr>\n",
       "  </tbody>\n",
       "</table>\n",
       "<p>100 rows × 3 columns</p>\n",
       "</div>"
      ],
      "text/plain": [
       "   Sr_no         Company_name               Market_cap\n",
       "0      1  Reliance Industries    ₹           16,26,036\n",
       "1      2                  TCS    ₹           13,25,131\n",
       "2      3            HDFC Bank   ₹             8,30,832\n",
       "3      4              Infosys   ₹             7,45,368\n",
       "4      5       Hind. Unilever   ₹             5,42,253\n",
       "..   ...                  ...                      ...\n",
       "95    96          PB Fintech.  ₹                49,533\n",
       "96    97        Hero Motocorp  ₹                49,329\n",
       "97    98                Bosch  ₹                48,689\n",
       "98    99           JSW Energy  ₹                48,491\n",
       "99   100       Jubilant Food.  ₹                48,455\n",
       "\n",
       "[100 rows x 3 columns]"
      ]
     },
     "execution_count": 59,
     "metadata": {},
     "output_type": "execute_result"
    }
   ],
   "source": [
    "stocks"
   ]
  },
  {
   "cell_type": "markdown",
   "id": "a96a48d9",
   "metadata": {},
   "source": [
    "# as we can see we don't need Sr_no column because  indexing so droping this column"
   ]
  },
  {
   "cell_type": "markdown",
   "id": "6c6bf2e8",
   "metadata": {},
   "source": [
    " "
   ]
  },
  {
   "cell_type": "code",
   "execution_count": null,
   "id": "e85ade9e",
   "metadata": {},
   "outputs": [],
   "source": []
  },
  {
   "cell_type": "code",
   "execution_count": 70,
   "id": "36a174fb",
   "metadata": {},
   "outputs": [],
   "source": [
    "stocks.drop(['Sr_no'],axis=1,inplace=True)"
   ]
  },
  {
   "cell_type": "code",
   "execution_count": 71,
   "id": "ea228226",
   "metadata": {},
   "outputs": [
    {
     "data": {
      "text/html": [
       "<div>\n",
       "<style scoped>\n",
       "    .dataframe tbody tr th:only-of-type {\n",
       "        vertical-align: middle;\n",
       "    }\n",
       "\n",
       "    .dataframe tbody tr th {\n",
       "        vertical-align: top;\n",
       "    }\n",
       "\n",
       "    .dataframe thead th {\n",
       "        text-align: right;\n",
       "    }\n",
       "</style>\n",
       "<table border=\"1\" class=\"dataframe\">\n",
       "  <thead>\n",
       "    <tr style=\"text-align: right;\">\n",
       "      <th></th>\n",
       "      <th>Company_name</th>\n",
       "      <th>Market_cap</th>\n",
       "    </tr>\n",
       "  </thead>\n",
       "  <tbody>\n",
       "    <tr>\n",
       "      <th>0</th>\n",
       "      <td>Reliance Industries</td>\n",
       "      <td>₹           16,26,036</td>\n",
       "    </tr>\n",
       "    <tr>\n",
       "      <th>1</th>\n",
       "      <td>TCS</td>\n",
       "      <td>₹           13,25,131</td>\n",
       "    </tr>\n",
       "    <tr>\n",
       "      <th>2</th>\n",
       "      <td>HDFC Bank</td>\n",
       "      <td>₹             8,30,832</td>\n",
       "    </tr>\n",
       "    <tr>\n",
       "      <th>3</th>\n",
       "      <td>Infosys</td>\n",
       "      <td>₹             7,45,368</td>\n",
       "    </tr>\n",
       "    <tr>\n",
       "      <th>4</th>\n",
       "      <td>Hind. Unilever</td>\n",
       "      <td>₹             5,42,253</td>\n",
       "    </tr>\n",
       "    <tr>\n",
       "      <th>...</th>\n",
       "      <td>...</td>\n",
       "      <td>...</td>\n",
       "    </tr>\n",
       "    <tr>\n",
       "      <th>95</th>\n",
       "      <td>PB Fintech.</td>\n",
       "      <td>₹                49,533</td>\n",
       "    </tr>\n",
       "    <tr>\n",
       "      <th>96</th>\n",
       "      <td>Hero Motocorp</td>\n",
       "      <td>₹                49,329</td>\n",
       "    </tr>\n",
       "    <tr>\n",
       "      <th>97</th>\n",
       "      <td>Bosch</td>\n",
       "      <td>₹                48,689</td>\n",
       "    </tr>\n",
       "    <tr>\n",
       "      <th>98</th>\n",
       "      <td>JSW Energy</td>\n",
       "      <td>₹                48,491</td>\n",
       "    </tr>\n",
       "    <tr>\n",
       "      <th>99</th>\n",
       "      <td>Jubilant Food.</td>\n",
       "      <td>₹                48,455</td>\n",
       "    </tr>\n",
       "  </tbody>\n",
       "</table>\n",
       "<p>100 rows × 2 columns</p>\n",
       "</div>"
      ],
      "text/plain": [
       "           Company_name               Market_cap\n",
       "0   Reliance Industries    ₹           16,26,036\n",
       "1                   TCS    ₹           13,25,131\n",
       "2             HDFC Bank   ₹             8,30,832\n",
       "3               Infosys   ₹             7,45,368\n",
       "4        Hind. Unilever   ₹             5,42,253\n",
       "..                  ...                      ...\n",
       "95          PB Fintech.  ₹                49,533\n",
       "96        Hero Motocorp  ₹                49,329\n",
       "97                Bosch  ₹                48,689\n",
       "98           JSW Energy  ₹                48,491\n",
       "99       Jubilant Food.  ₹                48,455\n",
       "\n",
       "[100 rows x 2 columns]"
      ]
     },
     "execution_count": 71,
     "metadata": {},
     "output_type": "execute_result"
    }
   ],
   "source": [
    "stocks"
   ]
  },
  {
   "cell_type": "code",
   "execution_count": 72,
   "id": "19584421",
   "metadata": {},
   "outputs": [
    {
     "data": {
      "text/html": [
       "<div>\n",
       "<style scoped>\n",
       "    .dataframe tbody tr th:only-of-type {\n",
       "        vertical-align: middle;\n",
       "    }\n",
       "\n",
       "    .dataframe tbody tr th {\n",
       "        vertical-align: top;\n",
       "    }\n",
       "\n",
       "    .dataframe thead th {\n",
       "        text-align: right;\n",
       "    }\n",
       "</style>\n",
       "<table border=\"1\" class=\"dataframe\">\n",
       "  <thead>\n",
       "    <tr style=\"text-align: right;\">\n",
       "      <th></th>\n",
       "      <th>Company_name</th>\n",
       "      <th>Market_cap</th>\n",
       "    </tr>\n",
       "  </thead>\n",
       "  <tbody>\n",
       "    <tr>\n",
       "      <th>0</th>\n",
       "      <td>Reliance Industries</td>\n",
       "      <td>₹           16,26,036</td>\n",
       "    </tr>\n",
       "    <tr>\n",
       "      <th>1</th>\n",
       "      <td>TCS</td>\n",
       "      <td>₹           13,25,131</td>\n",
       "    </tr>\n",
       "    <tr>\n",
       "      <th>2</th>\n",
       "      <td>HDFC Bank</td>\n",
       "      <td>₹             8,30,832</td>\n",
       "    </tr>\n",
       "    <tr>\n",
       "      <th>3</th>\n",
       "      <td>Infosys</td>\n",
       "      <td>₹             7,45,368</td>\n",
       "    </tr>\n",
       "    <tr>\n",
       "      <th>4</th>\n",
       "      <td>Hind. Unilever</td>\n",
       "      <td>₹             5,42,253</td>\n",
       "    </tr>\n",
       "    <tr>\n",
       "      <th>5</th>\n",
       "      <td>ICICI Bank</td>\n",
       "      <td>₹             5,14,298</td>\n",
       "    </tr>\n",
       "    <tr>\n",
       "      <th>6</th>\n",
       "      <td>H D F C</td>\n",
       "      <td>₹             4,89,051</td>\n",
       "    </tr>\n",
       "    <tr>\n",
       "      <th>7</th>\n",
       "      <td>St Bk of India</td>\n",
       "      <td>₹             4,29,319</td>\n",
       "    </tr>\n",
       "    <tr>\n",
       "      <th>8</th>\n",
       "      <td>Bajaj Finance</td>\n",
       "      <td>₹             4,24,099</td>\n",
       "    </tr>\n",
       "    <tr>\n",
       "      <th>9</th>\n",
       "      <td>Bharti Airtel</td>\n",
       "      <td>₹             3,88,129</td>\n",
       "    </tr>\n",
       "    <tr>\n",
       "      <th>10</th>\n",
       "      <td>Kotak Mah. Bank</td>\n",
       "      <td>₹             3,69,027</td>\n",
       "    </tr>\n",
       "    <tr>\n",
       "      <th>11</th>\n",
       "      <td>Wipro</td>\n",
       "      <td>₹             3,53,316</td>\n",
       "    </tr>\n",
       "    <tr>\n",
       "      <th>12</th>\n",
       "      <td>Asian Paints</td>\n",
       "      <td>₹             3,16,138</td>\n",
       "    </tr>\n",
       "    <tr>\n",
       "      <th>13</th>\n",
       "      <td>HCL Technologies</td>\n",
       "      <td>₹             3,15,033</td>\n",
       "    </tr>\n",
       "    <tr>\n",
       "      <th>14</th>\n",
       "      <td>Avenue Super.</td>\n",
       "      <td>₹             3,07,123</td>\n",
       "    </tr>\n",
       "    <tr>\n",
       "      <th>15</th>\n",
       "      <td>ITC</td>\n",
       "      <td>₹             2,74,727</td>\n",
       "    </tr>\n",
       "    <tr>\n",
       "      <th>16</th>\n",
       "      <td>Bajaj Finserv</td>\n",
       "      <td>₹             2,65,584</td>\n",
       "    </tr>\n",
       "    <tr>\n",
       "      <th>17</th>\n",
       "      <td>Larsen &amp; Toubro</td>\n",
       "      <td>₹             2,63,253</td>\n",
       "    </tr>\n",
       "    <tr>\n",
       "      <th>18</th>\n",
       "      <td>Maruti Suzuki</td>\n",
       "      <td>₹             2,25,109</td>\n",
       "    </tr>\n",
       "    <tr>\n",
       "      <th>19</th>\n",
       "      <td>Adani Green</td>\n",
       "      <td>₹             2,19,497</td>\n",
       "    </tr>\n",
       "    <tr>\n",
       "      <th>20</th>\n",
       "      <td>Axis Bank</td>\n",
       "      <td>₹             2,17,691</td>\n",
       "    </tr>\n",
       "    <tr>\n",
       "      <th>21</th>\n",
       "      <td>UltraTech Cem.</td>\n",
       "      <td>₹             2,14,002</td>\n",
       "    </tr>\n",
       "    <tr>\n",
       "      <th>22</th>\n",
       "      <td>Adani Total Gas</td>\n",
       "      <td>₹             2,11,457</td>\n",
       "    </tr>\n",
       "    <tr>\n",
       "      <th>23</th>\n",
       "      <td>Titan Company</td>\n",
       "      <td>₹             2,09,278</td>\n",
       "    </tr>\n",
       "    <tr>\n",
       "      <th>24</th>\n",
       "      <td>Adani Transmissi</td>\n",
       "      <td>₹             2,00,623</td>\n",
       "    </tr>\n",
       "  </tbody>\n",
       "</table>\n",
       "</div>"
      ],
      "text/plain": [
       "           Company_name              Market_cap\n",
       "0   Reliance Industries   ₹           16,26,036\n",
       "1                   TCS   ₹           13,25,131\n",
       "2             HDFC Bank  ₹             8,30,832\n",
       "3               Infosys  ₹             7,45,368\n",
       "4        Hind. Unilever  ₹             5,42,253\n",
       "5            ICICI Bank  ₹             5,14,298\n",
       "6               H D F C  ₹             4,89,051\n",
       "7        St Bk of India  ₹             4,29,319\n",
       "8         Bajaj Finance  ₹             4,24,099\n",
       "9         Bharti Airtel  ₹             3,88,129\n",
       "10      Kotak Mah. Bank  ₹             3,69,027\n",
       "11                Wipro  ₹             3,53,316\n",
       "12         Asian Paints  ₹             3,16,138\n",
       "13     HCL Technologies  ₹             3,15,033\n",
       "14        Avenue Super.  ₹             3,07,123\n",
       "15                  ITC  ₹             2,74,727\n",
       "16        Bajaj Finserv  ₹             2,65,584\n",
       "17      Larsen & Toubro  ₹             2,63,253\n",
       "18        Maruti Suzuki  ₹             2,25,109\n",
       "19          Adani Green  ₹             2,19,497\n",
       "20            Axis Bank  ₹             2,17,691\n",
       "21       UltraTech Cem.  ₹             2,14,002\n",
       "22      Adani Total Gas  ₹             2,11,457\n",
       "23        Titan Company  ₹             2,09,278\n",
       "24     Adani Transmissi  ₹             2,00,623"
      ]
     },
     "execution_count": 72,
     "metadata": {},
     "output_type": "execute_result"
    }
   ],
   "source": [
    "stocks.head(25)"
   ]
  },
  {
   "cell_type": "code",
   "execution_count": 74,
   "id": "52ea4b86",
   "metadata": {},
   "outputs": [
    {
     "data": {
      "text/plain": [
       "Company_name    0\n",
       "Market_cap      0\n",
       "dtype: int64"
      ]
     },
     "execution_count": 74,
     "metadata": {},
     "output_type": "execute_result"
    }
   ],
   "source": [
    "stocks.isnull().sum()"
   ]
  },
  {
   "cell_type": "code",
   "execution_count": 75,
   "id": "55773ca7",
   "metadata": {},
   "outputs": [
    {
     "data": {
      "text/html": [
       "<div>\n",
       "<style scoped>\n",
       "    .dataframe tbody tr th:only-of-type {\n",
       "        vertical-align: middle;\n",
       "    }\n",
       "\n",
       "    .dataframe tbody tr th {\n",
       "        vertical-align: top;\n",
       "    }\n",
       "\n",
       "    .dataframe thead th {\n",
       "        text-align: right;\n",
       "    }\n",
       "</style>\n",
       "<table border=\"1\" class=\"dataframe\">\n",
       "  <thead>\n",
       "    <tr style=\"text-align: right;\">\n",
       "      <th></th>\n",
       "      <th>Company_name</th>\n",
       "      <th>Market_cap</th>\n",
       "    </tr>\n",
       "  </thead>\n",
       "  <tbody>\n",
       "    <tr>\n",
       "      <th>count</th>\n",
       "      <td>100</td>\n",
       "      <td>100</td>\n",
       "    </tr>\n",
       "    <tr>\n",
       "      <th>unique</th>\n",
       "      <td>100</td>\n",
       "      <td>100</td>\n",
       "    </tr>\n",
       "    <tr>\n",
       "      <th>top</th>\n",
       "      <td>Reliance Industries</td>\n",
       "      <td>₹           16,26,036</td>\n",
       "    </tr>\n",
       "    <tr>\n",
       "      <th>freq</th>\n",
       "      <td>1</td>\n",
       "      <td>1</td>\n",
       "    </tr>\n",
       "  </tbody>\n",
       "</table>\n",
       "</div>"
      ],
      "text/plain": [
       "               Company_name             Market_cap\n",
       "count                   100                    100\n",
       "unique                  100                    100\n",
       "top     Reliance Industries  ₹           16,26,036\n",
       "freq                      1                      1"
      ]
     },
     "execution_count": 75,
     "metadata": {},
     "output_type": "execute_result"
    }
   ],
   "source": [
    "stocks.describe()"
   ]
  },
  {
   "cell_type": "code",
   "execution_count": 76,
   "id": "7a0d0e77",
   "metadata": {},
   "outputs": [
    {
     "name": "stdout",
     "output_type": "stream",
     "text": [
      "<class 'pandas.core.frame.DataFrame'>\n",
      "RangeIndex: 100 entries, 0 to 99\n",
      "Data columns (total 2 columns):\n",
      " #   Column        Non-Null Count  Dtype \n",
      "---  ------        --------------  ----- \n",
      " 0   Company_name  100 non-null    object\n",
      " 1   Market_cap    100 non-null    object\n",
      "dtypes: object(2)\n",
      "memory usage: 1.7+ KB\n"
     ]
    }
   ],
   "source": [
    "stocks.info()"
   ]
  },
  {
   "cell_type": "markdown",
   "id": "a5970759",
   "metadata": {},
   "source": [
    "# In the market_cap column there is rupees symbol we remove this and also market_cap datatype is object and values are in integer so we'll change its datatype"
   ]
  },
  {
   "cell_type": "code",
   "execution_count": 78,
   "id": "131061a7",
   "metadata": {},
   "outputs": [
    {
     "data": {
      "text/plain": [
       "Company_name    100\n",
       "Market_cap      100\n",
       "dtype: int64"
      ]
     },
     "execution_count": 78,
     "metadata": {},
     "output_type": "execute_result"
    }
   ],
   "source": [
    "stocks.nunique()"
   ]
  },
  {
   "cell_type": "code",
   "execution_count": 81,
   "id": "6ef9d02c",
   "metadata": {},
   "outputs": [
    {
     "data": {
      "text/plain": [
       "Reliance Industries    1\n",
       "Mindtree               1\n",
       "Motherson Sumi         1\n",
       "Tata Power Co.         1\n",
       "Info Edg.(India)       1\n",
       "                      ..\n",
       "Tech Mahindra          1\n",
       "Tata Motors            1\n",
       "O N G C                1\n",
       "Sun Pharma.Inds.       1\n",
       "Jubilant Food.         1\n",
       "Name: Company_name, Length: 100, dtype: int64"
      ]
     },
     "execution_count": 81,
     "metadata": {},
     "output_type": "execute_result"
    }
   ],
   "source": [
    "stocks['Company_name'].value_counts()"
   ]
  },
  {
   "cell_type": "code",
   "execution_count": 84,
   "id": "b779f34e",
   "metadata": {},
   "outputs": [
    {
     "data": {
      "text/plain": [
       "0       ₹           16,26,036\n",
       "1       ₹           13,25,131\n",
       "2      ₹             8,30,832\n",
       "3      ₹             7,45,368\n",
       "4      ₹             5,42,253\n",
       "               ...           \n",
       "95    ₹                49,533\n",
       "96    ₹                49,329\n",
       "97    ₹                48,689\n",
       "98    ₹                48,491\n",
       "99    ₹                48,455\n",
       "Name: Market_cap, Length: 100, dtype: object"
      ]
     },
     "execution_count": 84,
     "metadata": {},
     "output_type": "execute_result"
    }
   ],
   "source": [
    "stocks['Market_cap']"
   ]
  },
  {
   "cell_type": "code",
   "execution_count": 85,
   "id": "002714e7",
   "metadata": {},
   "outputs": [
    {
     "data": {
      "text/plain": [
       "0                  16,26,036\n",
       "1                  13,25,131\n",
       "2                   8,30,832\n",
       "3                   7,45,368\n",
       "4                   5,42,253\n",
       "               ...          \n",
       "95                    49,533\n",
       "96                    49,329\n",
       "97                    48,689\n",
       "98                    48,491\n",
       "99                    48,455\n",
       "Name: Market_cap, Length: 100, dtype: object"
      ]
     },
     "execution_count": 85,
     "metadata": {},
     "output_type": "execute_result"
    }
   ],
   "source": [
    " stocks['Market_cap'].str.replace('₹', '') # for making its parment we re assign it, for rupees symbol ctrl+alt+4"
   ]
  },
  {
   "cell_type": "code",
   "execution_count": 87,
   "id": "2ad83117",
   "metadata": {},
   "outputs": [],
   "source": [
    "stocks['Market_cap']=stocks['Market_cap'].str.replace('₹', '')"
   ]
  },
  {
   "cell_type": "code",
   "execution_count": 88,
   "id": "70448abb",
   "metadata": {},
   "outputs": [
    {
     "data": {
      "text/plain": [
       "0                  16,26,036\n",
       "1                  13,25,131\n",
       "2                   8,30,832\n",
       "3                   7,45,368\n",
       "4                   5,42,253\n",
       "               ...          \n",
       "95                    49,533\n",
       "96                    49,329\n",
       "97                    48,689\n",
       "98                    48,491\n",
       "99                    48,455\n",
       "Name: Market_cap, Length: 100, dtype: object"
      ]
     },
     "execution_count": 88,
     "metadata": {},
     "output_type": "execute_result"
    }
   ],
   "source": [
    "stocks['Market_cap']"
   ]
  },
  {
   "cell_type": "code",
   "execution_count": 89,
   "id": "913ff44e",
   "metadata": {},
   "outputs": [
    {
     "data": {
      "text/plain": [
       "0                   1626036\n",
       "1                   1325131\n",
       "2                    830832\n",
       "3                    745368\n",
       "4                    542253\n",
       "              ...          \n",
       "95                    49533\n",
       "96                    49329\n",
       "97                    48689\n",
       "98                    48491\n",
       "99                    48455\n",
       "Name: Market_cap, Length: 100, dtype: object"
      ]
     },
     "execution_count": 89,
     "metadata": {},
     "output_type": "execute_result"
    }
   ],
   "source": [
    "stocks['Market_cap'].str.replace(',', '')# for making its parment we re assign it"
   ]
  },
  {
   "cell_type": "code",
   "execution_count": 90,
   "id": "f9a7707b",
   "metadata": {},
   "outputs": [],
   "source": [
    "stocks['Market_cap']=stocks['Market_cap'].str.replace(',', '')"
   ]
  },
  {
   "cell_type": "code",
   "execution_count": 91,
   "id": "2b97d426",
   "metadata": {},
   "outputs": [
    {
     "data": {
      "text/plain": [
       "0                   1626036\n",
       "1                   1325131\n",
       "2                    830832\n",
       "3                    745368\n",
       "4                    542253\n",
       "              ...          \n",
       "95                    49533\n",
       "96                    49329\n",
       "97                    48689\n",
       "98                    48491\n",
       "99                    48455\n",
       "Name: Market_cap, Length: 100, dtype: object"
      ]
     },
     "execution_count": 91,
     "metadata": {},
     "output_type": "execute_result"
    }
   ],
   "source": [
    "stocks['Market_cap']"
   ]
  },
  {
   "cell_type": "code",
   "execution_count": 92,
   "id": "33adde3f",
   "metadata": {},
   "outputs": [],
   "source": [
    "#convertings its datatpye into 'int'"
   ]
  },
  {
   "cell_type": "code",
   "execution_count": null,
   "id": "ce9fef78",
   "metadata": {},
   "outputs": [],
   "source": [
    "df['Market_cap'] = pd.to_numeric(df['Market_cap'], errors='coerce').astype(float)"
   ]
  },
  {
   "cell_type": "code",
   "execution_count": 93,
   "id": "dc036e17",
   "metadata": {},
   "outputs": [
    {
     "data": {
      "text/plain": [
       "0     1626036.0\n",
       "1     1325131.0\n",
       "2      830832.0\n",
       "3      745368.0\n",
       "4      542253.0\n",
       "        ...    \n",
       "95      49533.0\n",
       "96      49329.0\n",
       "97      48689.0\n",
       "98      48491.0\n",
       "99      48455.0\n",
       "Name: Market_cap, Length: 100, dtype: float64"
      ]
     },
     "execution_count": 93,
     "metadata": {},
     "output_type": "execute_result"
    }
   ],
   "source": [
    "stocks['Market_cap'].astype(float)"
   ]
  },
  {
   "cell_type": "code",
   "execution_count": 94,
   "id": "4bf44172",
   "metadata": {},
   "outputs": [
    {
     "name": "stdout",
     "output_type": "stream",
     "text": [
      "<class 'pandas.core.frame.DataFrame'>\n",
      "RangeIndex: 100 entries, 0 to 99\n",
      "Data columns (total 2 columns):\n",
      " #   Column        Non-Null Count  Dtype \n",
      "---  ------        --------------  ----- \n",
      " 0   Company_name  100 non-null    object\n",
      " 1   Market_cap    100 non-null    object\n",
      "dtypes: object(2)\n",
      "memory usage: 1.7+ KB\n"
     ]
    }
   ],
   "source": [
    "stocks.info()"
   ]
  },
  {
   "cell_type": "code",
   "execution_count": 95,
   "id": "d862d883",
   "metadata": {},
   "outputs": [],
   "source": [
    "#re assigning for parmanet"
   ]
  },
  {
   "cell_type": "code",
   "execution_count": 96,
   "id": "6422ba47",
   "metadata": {},
   "outputs": [],
   "source": [
    "stocks['Market_cap']=stocks['Market_cap'].astype(float)"
   ]
  },
  {
   "cell_type": "code",
   "execution_count": 97,
   "id": "33243980",
   "metadata": {},
   "outputs": [
    {
     "name": "stdout",
     "output_type": "stream",
     "text": [
      "<class 'pandas.core.frame.DataFrame'>\n",
      "RangeIndex: 100 entries, 0 to 99\n",
      "Data columns (total 2 columns):\n",
      " #   Column        Non-Null Count  Dtype  \n",
      "---  ------        --------------  -----  \n",
      " 0   Company_name  100 non-null    object \n",
      " 1   Market_cap    100 non-null    float64\n",
      "dtypes: float64(1), object(1)\n",
      "memory usage: 1.7+ KB\n"
     ]
    }
   ],
   "source": [
    "stocks.info()"
   ]
  },
  {
   "cell_type": "code",
   "execution_count": 108,
   "id": "0673acbb",
   "metadata": {},
   "outputs": [
    {
     "data": {
      "text/plain": [
       "<function matplotlib.pyplot.show(close=None, block=None)>"
      ]
     },
     "execution_count": 108,
     "metadata": {},
     "output_type": "execute_result"
    },
    {
     "data": {
      "image/png": "[encoded data removed]",
      "text/plain": [
       "<Figure size 2500x700 with 1 Axes>"
      ]
     },
     "metadata": {},
     "output_type": "display_data"
    }
   ],
   "source": [
    "# Create a scatter plot\n",
    "plt.figure(figsize=(25, 6))\n",
    "plt.scatter(stocks['Company_name'], stocks['Market_cap'])\n",
    "plt.xlabel('Company Name')\n",
    "plt.ylabel('Market_Cap (in Billions)')\n",
    "plt.xticks(rotation=90)\n",
    "plt.show"
   ]
  },
  {
   "cell_type": "code",
   "execution_count": 113,
   "id": "5b325f24",
   "metadata": {},
   "outputs": [
    {
     "data": {
      "image/png": "[encoded data removed]",
      "text/plain": [
       "<Figure size 2500x600 with 1 Axes>"
      ]
     },
     "metadata": {},
     "output_type": "display_data"
    }
   ],
   "source": [
    "stocks_sorted = stocks.sort_values(by='Market_cap', ascending=False)\n",
    "plt.figure(figsize=(25, 6))\n",
    "plt.bar(stocks_sorted['Company_name'],stocks_sorted['Market_cap'])\n",
    "plt.xlabel('Company Name')\n",
    "plt.ylabel('Market Cap (in Billions)')\n",
    "plt.show()"
   ]
  },
  {
   "cell_type": "markdown",
   "id": "7599e286",
   "metadata": {},
   "source": [
    "# What is the company with the highest market capitalization in the dataset?"
   ]
  },
  {
   "cell_type": "code",
   "execution_count": 149,
   "id": "013a441e",
   "metadata": {},
   "outputs": [
    {
     "data": {
      "text/plain": [
       "'Reliance Industries'"
      ]
     },
     "execution_count": 149,
     "metadata": {},
     "output_type": "execute_result"
    }
   ],
   "source": [
    "stocks.loc[stocks['Market_cap'].idxmax()]['Company_name']"
   ]
  },
  {
   "cell_type": "markdown",
   "id": "4c7232ba",
   "metadata": {},
   "source": [
    "# What is the total number of companies in the dataset?"
   ]
  },
  {
   "cell_type": "code",
   "execution_count": 115,
   "id": "c6f41270",
   "metadata": {},
   "outputs": [
    {
     "data": {
      "text/plain": [
       "100"
      ]
     },
     "execution_count": 115,
     "metadata": {},
     "output_type": "execute_result"
    }
   ],
   "source": [
    "len(stocks)"
   ]
  },
  {
   "cell_type": "markdown",
   "id": "156c05d2",
   "metadata": {},
   "source": [
    "# What is the average market capitalization of the companies in the dataset?"
   ]
  },
  {
   "cell_type": "code",
   "execution_count": 116,
   "id": "98814ed9",
   "metadata": {},
   "outputs": [
    {
     "data": {
      "text/plain": [
       "181686.02"
      ]
     },
     "execution_count": 116,
     "metadata": {},
     "output_type": "execute_result"
    }
   ],
   "source": [
    "stocks['Market_cap'].mean()"
   ]
  },
  {
   "cell_type": "markdown",
   "id": "bd5b9a25",
   "metadata": {},
   "source": [
    "# How many companies have market capitalization greater than or equal to 10 lac (1,00,00,00,) rupees?"
   ]
  },
  {
   "cell_type": "code",
   "execution_count": 124,
   "id": "5ce7bbfe",
   "metadata": {},
   "outputs": [
    {
     "data": {
      "text/plain": [
       "2"
      ]
     },
     "execution_count": 124,
     "metadata": {},
     "output_type": "execute_result"
    }
   ],
   "source": [
    "len(stocks[stocks['Market_cap'] >= 1000000])"
   ]
  },
  {
   "cell_type": "code",
   "execution_count": 125,
   "id": "5ddd7311",
   "metadata": {},
   "outputs": [
    {
     "data": {
      "text/html": [
       "<div>\n",
       "<style scoped>\n",
       "    .dataframe tbody tr th:only-of-type {\n",
       "        vertical-align: middle;\n",
       "    }\n",
       "\n",
       "    .dataframe tbody tr th {\n",
       "        vertical-align: top;\n",
       "    }\n",
       "\n",
       "    .dataframe thead th {\n",
       "        text-align: right;\n",
       "    }\n",
       "</style>\n",
       "<table border=\"1\" class=\"dataframe\">\n",
       "  <thead>\n",
       "    <tr style=\"text-align: right;\">\n",
       "      <th></th>\n",
       "      <th>Company_name</th>\n",
       "      <th>Market_cap</th>\n",
       "    </tr>\n",
       "  </thead>\n",
       "  <tbody>\n",
       "    <tr>\n",
       "      <th>0</th>\n",
       "      <td>Reliance Industries</td>\n",
       "      <td>1626036.0</td>\n",
       "    </tr>\n",
       "    <tr>\n",
       "      <th>1</th>\n",
       "      <td>TCS</td>\n",
       "      <td>1325131.0</td>\n",
       "    </tr>\n",
       "  </tbody>\n",
       "</table>\n",
       "</div>"
      ],
      "text/plain": [
       "          Company_name  Market_cap\n",
       "0  Reliance Industries   1626036.0\n",
       "1                  TCS   1325131.0"
      ]
     },
     "execution_count": 125,
     "metadata": {},
     "output_type": "execute_result"
    }
   ],
   "source": [
    "(stocks[stocks['Market_cap'] >= 1000000])"
   ]
  },
  {
   "cell_type": "markdown",
   "id": "7dcc77f0",
   "metadata": {},
   "source": [
    "# What is the sum of market capitalizations of the top 10 companies in the dataset?"
   ]
  },
  {
   "cell_type": "code",
   "execution_count": 126,
   "id": "48857779",
   "metadata": {},
   "outputs": [
    {
     "data": {
      "text/plain": [
       "7314516.0"
      ]
     },
     "execution_count": 126,
     "metadata": {},
     "output_type": "execute_result"
    }
   ],
   "source": [
    "stocks.nlargest(10, 'Market_cap')['Market_cap'].sum()"
   ]
  },
  {
   "cell_type": "code",
   "execution_count": 128,
   "id": "52bcfe1d",
   "metadata": {},
   "outputs": [
    {
     "data": {
      "text/plain": [
       "7314516.0"
      ]
     },
     "execution_count": 128,
     "metadata": {},
     "output_type": "execute_result"
    }
   ],
   "source": [
    "stocks['Market_cap'].head(10).sum()"
   ]
  },
  {
   "cell_type": "code",
   "execution_count": 131,
   "id": "8a1bee6d",
   "metadata": {},
   "outputs": [
    {
     "data": {
      "text/plain": [
       "0    1626036.0\n",
       "1    1325131.0\n",
       "2     830832.0\n",
       "3     745368.0\n",
       "4     542253.0\n",
       "5     514298.0\n",
       "6     489051.0\n",
       "7     429319.0\n",
       "8     424099.0\n",
       "9     388129.0\n",
       "Name: Market_cap, dtype: float64"
      ]
     },
     "execution_count": 131,
     "metadata": {},
     "output_type": "execute_result"
    }
   ],
   "source": [
    "stocks['Market_cap'].head(10)"
   ]
  },
  {
   "cell_type": "markdown",
   "id": "90610e68",
   "metadata": {},
   "source": [
    "# What is the median market capitalization of the companies in the dataset?"
   ]
  },
  {
   "cell_type": "code",
   "execution_count": 135,
   "id": "cd9e5e20",
   "metadata": {},
   "outputs": [
    {
     "data": {
      "text/plain": [
       "100566.5"
      ]
     },
     "execution_count": 135,
     "metadata": {},
     "output_type": "execute_result"
    }
   ],
   "source": [
    "stocks['Market_cap'].median()"
   ]
  },
  {
   "cell_type": "markdown",
   "id": "491626f0",
   "metadata": {},
   "source": [
    "# What is the company with the lowest market capitalization in the dataset?"
   ]
  },
  {
   "cell_type": "code",
   "execution_count": 138,
   "id": "25a00bc1",
   "metadata": {},
   "outputs": [
    {
     "data": {
      "text/plain": [
       "'Jubilant Food.'"
      ]
     },
     "execution_count": 138,
     "metadata": {},
     "output_type": "execute_result"
    }
   ],
   "source": [
    "stocks.loc[stocks['Market_cap'].idxmin()]['Company_name']"
   ]
  },
  {
   "cell_type": "code",
   "execution_count": 144,
   "id": "3f6a4297",
   "metadata": {},
   "outputs": [
    {
     "data": {
      "text/html": [
       "<div>\n",
       "<style scoped>\n",
       "    .dataframe tbody tr th:only-of-type {\n",
       "        vertical-align: middle;\n",
       "    }\n",
       "\n",
       "    .dataframe tbody tr th {\n",
       "        vertical-align: top;\n",
       "    }\n",
       "\n",
       "    .dataframe thead th {\n",
       "        text-align: right;\n",
       "    }\n",
       "</style>\n",
       "<table border=\"1\" class=\"dataframe\">\n",
       "  <thead>\n",
       "    <tr style=\"text-align: right;\">\n",
       "      <th></th>\n",
       "      <th>Company_name</th>\n",
       "      <th>Market_cap</th>\n",
       "    </tr>\n",
       "  </thead>\n",
       "  <tbody>\n",
       "    <tr>\n",
       "      <th>99</th>\n",
       "      <td>Jubilant Food.</td>\n",
       "      <td>48455.0</td>\n",
       "    </tr>\n",
       "  </tbody>\n",
       "</table>\n",
       "</div>"
      ],
      "text/plain": [
       "      Company_name  Market_cap\n",
       "99  Jubilant Food.     48455.0"
      ]
     },
     "execution_count": 144,
     "metadata": {},
     "output_type": "execute_result"
    }
   ],
   "source": [
    "stocks.tail(1)"
   ]
  },
  {
   "cell_type": "markdown",
   "id": "17ebe9de",
   "metadata": {},
   "source": [
    "# What is the ratio of the market capitalization of the company with the highest market cap to the company with the second-highest market cap?"
   ]
  },
  {
   "cell_type": "code",
   "execution_count": 150,
   "id": "f02b4d71",
   "metadata": {},
   "outputs": [
    {
     "data": {
      "text/plain": [
       "1.2270756627080643"
      ]
     },
     "execution_count": 150,
     "metadata": {},
     "output_type": "execute_result"
    }
   ],
   "source": [
    "stocks['Market_cap'].loc[0] / stocks['Market_cap'].loc[1]"
   ]
  },
  {
   "cell_type": "code",
   "execution_count": 156,
   "id": "fb642a60",
   "metadata": {},
   "outputs": [
    {
     "data": {
      "text/plain": [
       "0    1626036.0\n",
       "1    1325131.0\n",
       "Name: Market_cap, dtype: float64"
      ]
     },
     "execution_count": 156,
     "metadata": {},
     "output_type": "execute_result"
    }
   ],
   "source": [
    "stocks['Market_cap'].loc[0:1]"
   ]
  },
  {
   "cell_type": "code",
   "execution_count": 152,
   "id": "575809f7",
   "metadata": {},
   "outputs": [
    {
     "data": {
      "text/html": [
       "<div>\n",
       "<style scoped>\n",
       "    .dataframe tbody tr th:only-of-type {\n",
       "        vertical-align: middle;\n",
       "    }\n",
       "\n",
       "    .dataframe tbody tr th {\n",
       "        vertical-align: top;\n",
       "    }\n",
       "\n",
       "    .dataframe thead th {\n",
       "        text-align: right;\n",
       "    }\n",
       "</style>\n",
       "<table border=\"1\" class=\"dataframe\">\n",
       "  <thead>\n",
       "    <tr style=\"text-align: right;\">\n",
       "      <th></th>\n",
       "      <th>Company_name</th>\n",
       "      <th>Market_cap</th>\n",
       "    </tr>\n",
       "  </thead>\n",
       "  <tbody>\n",
       "    <tr>\n",
       "      <th>0</th>\n",
       "      <td>Reliance Industries</td>\n",
       "      <td>1626036.0</td>\n",
       "    </tr>\n",
       "    <tr>\n",
       "      <th>1</th>\n",
       "      <td>TCS</td>\n",
       "      <td>1325131.0</td>\n",
       "    </tr>\n",
       "  </tbody>\n",
       "</table>\n",
       "</div>"
      ],
      "text/plain": [
       "          Company_name  Market_cap\n",
       "0  Reliance Industries   1626036.0\n",
       "1                  TCS   1325131.0"
      ]
     },
     "execution_count": 152,
     "metadata": {},
     "output_type": "execute_result"
    }
   ],
   "source": [
    "stocks.head(2)"
   ]
  },
  {
   "cell_type": "markdown",
   "id": "1846b7b1",
   "metadata": {},
   "source": [
    "# What is the market capitalization of the company ranked 25th in the dataset? "
   ]
  },
  {
   "cell_type": "code",
   "execution_count": 158,
   "id": "c0de6bfa",
   "metadata": {},
   "outputs": [
    {
     "data": {
      "text/plain": [
       "('Adani Enterp.', 187094.0)"
      ]
     },
     "execution_count": 158,
     "metadata": {},
     "output_type": "execute_result"
    }
   ],
   "source": [
    "stocks['Company_name'].loc[25],stocks['Market_cap'].loc[25]"
   ]
  },
  {
   "cell_type": "code",
   "execution_count": 162,
   "id": "c43c3993",
   "metadata": {},
   "outputs": [],
   "source": [
    "twentyfive_record = stocks.loc[25]"
   ]
  },
  {
   "cell_type": "code",
   "execution_count": 163,
   "id": "8532b352",
   "metadata": {},
   "outputs": [
    {
     "data": {
      "text/plain": [
       "Company_name    Adani Enterp.\n",
       "Market_cap           187094.0\n",
       "Name: 25, dtype: object"
      ]
     },
     "execution_count": 163,
     "metadata": {},
     "output_type": "execute_result"
    }
   ],
   "source": [
    "twentyfive_record "
   ]
  },
  {
   "cell_type": "markdown",
   "id": "444b1776",
   "metadata": {},
   "source": [
    "# "
   ]
  },
  {
   "cell_type": "code",
   "execution_count": null,
   "id": "368ae8d6",
   "metadata": {},
   "outputs": [],
   "source": []
  },
  {
   "cell_type": "code",
   "execution_count": 169,
   "id": "52029ca7",
   "metadata": {},
   "outputs": [],
   "source": []
  },
  {
   "cell_type": "code",
   "execution_count": 170,
   "id": "2c05fae8",
   "metadata": {},
   "outputs": [
    {
     "data": {
      "text/html": [
       "<div>\n",
       "<style scoped>\n",
       "    .dataframe tbody tr th:only-of-type {\n",
       "        vertical-align: middle;\n",
       "    }\n",
       "\n",
       "    .dataframe tbody tr th {\n",
       "        vertical-align: top;\n",
       "    }\n",
       "\n",
       "    .dataframe thead th {\n",
       "        text-align: right;\n",
       "    }\n",
       "</style>\n",
       "<table border=\"1\" class=\"dataframe\">\n",
       "  <thead>\n",
       "    <tr style=\"text-align: right;\">\n",
       "      <th></th>\n",
       "      <th>Company_name</th>\n",
       "      <th>Market_cap</th>\n",
       "    </tr>\n",
       "  </thead>\n",
       "  <tbody>\n",
       "    <tr>\n",
       "      <th>0</th>\n",
       "      <td>Reliance Industries</td>\n",
       "      <td>1626036.0</td>\n",
       "    </tr>\n",
       "    <tr>\n",
       "      <th>1</th>\n",
       "      <td>TCS</td>\n",
       "      <td>1325131.0</td>\n",
       "    </tr>\n",
       "    <tr>\n",
       "      <th>2</th>\n",
       "      <td>HDFC Bank</td>\n",
       "      <td>830832.0</td>\n",
       "    </tr>\n",
       "    <tr>\n",
       "      <th>3</th>\n",
       "      <td>Infosys</td>\n",
       "      <td>745368.0</td>\n",
       "    </tr>\n",
       "    <tr>\n",
       "      <th>4</th>\n",
       "      <td>Hind. Unilever</td>\n",
       "      <td>542253.0</td>\n",
       "    </tr>\n",
       "    <tr>\n",
       "      <th>...</th>\n",
       "      <td>...</td>\n",
       "      <td>...</td>\n",
       "    </tr>\n",
       "    <tr>\n",
       "      <th>95</th>\n",
       "      <td>PB Fintech.</td>\n",
       "      <td>49533.0</td>\n",
       "    </tr>\n",
       "    <tr>\n",
       "      <th>96</th>\n",
       "      <td>Hero Motocorp</td>\n",
       "      <td>49329.0</td>\n",
       "    </tr>\n",
       "    <tr>\n",
       "      <th>97</th>\n",
       "      <td>Bosch</td>\n",
       "      <td>48689.0</td>\n",
       "    </tr>\n",
       "    <tr>\n",
       "      <th>98</th>\n",
       "      <td>JSW Energy</td>\n",
       "      <td>48491.0</td>\n",
       "    </tr>\n",
       "    <tr>\n",
       "      <th>99</th>\n",
       "      <td>Jubilant Food.</td>\n",
       "      <td>48455.0</td>\n",
       "    </tr>\n",
       "  </tbody>\n",
       "</table>\n",
       "<p>100 rows × 2 columns</p>\n",
       "</div>"
      ],
      "text/plain": [
       "           Company_name  Market_cap\n",
       "0   Reliance Industries   1626036.0\n",
       "1                   TCS   1325131.0\n",
       "2             HDFC Bank    830832.0\n",
       "3               Infosys    745368.0\n",
       "4        Hind. Unilever    542253.0\n",
       "..                  ...         ...\n",
       "95          PB Fintech.     49533.0\n",
       "96        Hero Motocorp     49329.0\n",
       "97                Bosch     48689.0\n",
       "98           JSW Energy     48491.0\n",
       "99       Jubilant Food.     48455.0\n",
       "\n",
       "[100 rows x 2 columns]"
      ]
     },
     "execution_count": 170,
     "metadata": {},
     "output_type": "execute_result"
    }
   ],
   "source": [
    "stocks"
   ]
  },
  {
   "cell_type": "code",
   "execution_count": null,
   "id": "adc4bffe",
   "metadata": {},
   "outputs": [],
   "source": []
  }
 ],
 "metadata": {
  "kernelspec": {
   "display_name": "Python 3 (ipykernel)",
   "language": "python",
   "name": "python3"
  },
  "language_info": {
   "codemirror_mode": {
    "name": "ipython",
    "version": 3
   },
   "file_extension": ".py",
   "mimetype": "text/x-python",
   "name": "python",
   "nbconvert_exporter": "python",
   "pygments_lexer": "ipython3",
   "version": "3.11.3"
  }
 },
 "nbformat": 4,
 "nbformat_minor": 5
}
